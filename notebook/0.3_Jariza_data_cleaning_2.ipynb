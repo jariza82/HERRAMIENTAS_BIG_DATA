{
 "cells": [
  {
   "cell_type": "code",
   "execution_count": 3,
   "metadata": {},
   "outputs": [
    {
     "name": "stdout",
     "output_type": "stream",
     "text": [
      "<class 'pandas.core.frame.DataFrame'>\n",
      "RangeIndex: 13055 entries, 0 to 13054\n",
      "Data columns (total 11 columns):\n",
      " #   Column                             Non-Null Count  Dtype \n",
      "---  ------                             --------------  ----- \n",
      " 0   NUMERO_INCIDENTE                   13055 non-null  object\n",
      " 1   FECHA_INICIO_DESPLAZAMIENTO_MOVIL  13055 non-null  object\n",
      " 2   CODIGO_LOCALIDAD                   13055 non-null  int64 \n",
      " 3   LOCALIDAD                          13055 non-null  object\n",
      " 4   EDAD                               13055 non-null  object\n",
      " 5   UNIDAD                             13047 non-null  object\n",
      " 6   GENERO                             13055 non-null  object\n",
      " 7   RED                                13055 non-null  object\n",
      " 8   TIPO_INCIDENTE                     13055 non-null  object\n",
      " 9   PRIORIDAD                          13055 non-null  object\n",
      " 10  RECEPCION                          13055 non-null  object\n",
      "dtypes: int64(1), object(10)\n",
      "memory usage: 1.1+ MB\n"
     ]
    }
   ],
   "source": []
  },
  {
   "cell_type": "code",
   "execution_count": 18,
   "metadata": {},
   "outputs": [
    {
     "name": "stdout",
     "output_type": "stream",
     "text": [
      "<class 'pandas.core.frame.DataFrame'>\n",
      "RangeIndex: 13055 entries, 0 to 13054\n",
      "Data columns (total 11 columns):\n",
      " #   Column                             Non-Null Count  Dtype \n",
      "---  ------                             --------------  ----- \n",
      " 0   NUMERO_INCIDENTE                   13055 non-null  object\n",
      " 1   FECHA_INICIO_DESPLAZAMIENTO_MOVIL  13055 non-null  object\n",
      " 2   CODIGO_LOCALIDAD                   13055 non-null  int64 \n",
      " 3   LOCALIDAD                          13055 non-null  object\n",
      " 4   EDAD                               13055 non-null  object\n",
      " 5   UNIDAD                             13047 non-null  object\n",
      " 6   GENERO                             13055 non-null  object\n",
      " 7   RED                                13055 non-null  object\n",
      " 8   TIPO_INCIDENTE                     13055 non-null  object\n",
      " 9   PRIORIDAD                          13055 non-null  object\n",
      " 10  RECEPCION                          13055 non-null  object\n",
      "dtypes: int64(1), object(10)\n",
      "memory usage: 1.1+ MB\n"
     ]
    }
   ],
   "source": [
    "import os\n",
    "import pandas as pd\n",
    "from pathlib import Path\n",
    "from fileinput import filename\n",
    "    \n",
    "root_dir=Path ('.').resolve().parent\n",
    "root_dir\n",
    "file_name='llamadas123_julio_2022.csv'\n",
    "file_path=os.path.join(root_dir,\"data\",\"raw\",file_name)\n",
    "file_path\n",
    "df=pd.read_csv(file_path,sep=\";\",encoding=\"latin-1\")\n",
    "df.info()#información general de la tabla, que esquema, object-->string "
   ]
  },
  {
   "cell_type": "code",
   "execution_count": 21,
   "metadata": {},
   "outputs": [
    {
     "name": "stdout",
     "output_type": "stream",
     "text": [
      "forma inicial (13026, 11)\n",
      "forma inicial (13026, 11)\n",
      "<class 'pandas.core.frame.DataFrame'>\n",
      "RangeIndex: 13026 entries, 0 to 13025\n",
      "Data columns (total 11 columns):\n",
      " #   Column                             Non-Null Count  Dtype \n",
      "---  ------                             --------------  ----- \n",
      " 0   NUMERO_INCIDENTE                   13026 non-null  object\n",
      " 1   FECHA_INICIO_DESPLAZAMIENTO_MOVIL  13026 non-null  object\n",
      " 2   CODIGO_LOCALIDAD                   13026 non-null  int64 \n",
      " 3   LOCALIDAD                          13026 non-null  object\n",
      " 4   EDAD                               13026 non-null  object\n",
      " 5   UNIDAD                             13018 non-null  object\n",
      " 6   GENERO                             13026 non-null  object\n",
      " 7   RED                                13026 non-null  object\n",
      " 8   TIPO_INCIDENTE                     13026 non-null  object\n",
      " 9   PRIORIDAD                          13026 non-null  object\n",
      " 10  RECEPCION                          13026 non-null  object\n",
      "dtypes: int64(1), object(10)\n",
      "memory usage: 1.1+ MB\n"
     ]
    }
   ],
   "source": [
    "#Eliminar duplicados \n",
    "print('forma inicial',df.shape)\n",
    "df=df.drop_duplicates()#Eliminar duplicados -->filas\n",
    "df.reset_index(inplace=True)#Sobreescribe en el espacio de memoria\n",
    "df.drop(columns='index',inplace=True)\n",
    "#df.drop(columns='index',inplace=True,drop=True)\n",
    "print('forma inicial',df.shape)\n",
    "df.info()"
   ]
  },
  {
   "cell_type": "code",
   "execution_count": 26,
   "metadata": {},
   "outputs": [
    {
     "data": {
      "text/plain": [
       "A¤os        0.520574\n",
       "SIN_DATO    0.475587\n",
       "Meses       0.002994\n",
       "Horas       0.000461\n",
       "Dias        0.000384\n",
       "Name: UNIDAD, dtype: float64"
      ]
     },
     "execution_count": 26,
     "metadata": {},
     "output_type": "execute_result"
    }
   ],
   "source": [
    "#Tratamiento de valores nulos-->tener en cuenta el tipo de dato\n",
    "# Nulo de string-->sin_dato,n/a\n",
    "#Nulo de numeros-->nan numero sin asignación\n",
    "#fechas-->NaT-->tiempo sin asignacion\n",
    "\n",
    "col='UNIDAD'\n",
    "df[col].value_counts(dropna=False)#-->frecuencia absoluta\n",
    "#df[col].value_counts(dropna=False,normalize=True)#-->frecuencia relativa\n",
    "df[col].fillna('SIN_DATO',inplace=True)#-->frecuencia relativa\n",
    "df[col].value_counts(dropna=False,normalize=True)#-->frecuencia relativa"
   ]
  }
 ],
 "metadata": {
  "kernelspec": {
   "display_name": "Python 3.9.12 ('base')",
   "language": "python",
   "name": "python3"
  },
  "language_info": {
   "codemirror_mode": {
    "name": "ipython",
    "version": 3
   },
   "file_extension": ".py",
   "mimetype": "text/x-python",
   "name": "python",
   "nbconvert_exporter": "python",
   "pygments_lexer": "ipython3",
   "version": "3.9.12"
  },
  "orig_nbformat": 4,
  "vscode": {
   "interpreter": {
    "hash": "e5a3a39f6d4c989f0ee39835f80fe596818c9d393074cb6f1502bf4351e7f61b"
   }
  }
 },
 "nbformat": 4,
 "nbformat_minor": 2
}
